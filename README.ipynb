{
 "cells": [
  {
   "cell_type": "markdown",
   "metadata": {},
   "source": [
    "# Como instalar/configurar para exibir somente a última pasta no terminal no `Linux Ubuntu`\n",
    "\n",
    "## Resumo\n",
    "\n",
    "Neste documento estão contidos os principais comandos e configurações para instalar/configurar para mostrar somente a última pasta no terminal no `Linux Ubuntu`.\n",
    "\n",
    "## _Abstract_\n",
    "\n",
    "_This document contains the main commands and settings to install/configure to show only the last folder in the terminal in `Linux Ubuntu`._\n"
   ]
  },
  {
   "cell_type": "markdown",
   "metadata": {},
   "source": [
    "## Descrição\n",
    "\n",
    "### `shell`\n",
    "\n",
    "Um \"shell\" é uma interface de linha de comando que permite aos usuários interagirem com um sistema operacional ou software por meio de comandos de texto. Ele atua como uma camada intermediária entre o usuário e o núcleo do sistema operacional, permitindo a execução de tarefas, manipulação de arquivos, gerenciamento de processos e configuração do sistema. Os shells são comumente encontrados em sistemas Unix-like, como o Linux, e também estão disponíveis em outros sistemas operacionais, como o Windows. Eles podem variar em complexidade e recursos, desde shells simples que fornecem apenas funcionalidades básicas até shells avançados, como o Bash, o PowerShell e o Zsh, que oferecem automação avançada, scripting e recursos de personalização. Os shells desempenham um papel fundamental na automação de tarefas, na administração de sistemas e na programação de scripts, tornando-se uma ferramenta essencial para administradores de sistemas, desenvolvedores e usuários avançados.\n"
   ]
  },
  {
   "cell_type": "markdown",
   "metadata": {},
   "source": [
    "## 1. Configurar/Instalar para exibir somente a última pasta no terminal do Linux [1]\n",
    "\n",
    "Para fazer com que o terminal do Linux mostre apenas o nome da última pasta (ao invés do caminho completo), você precisa modificar o arquivo de configuração do `shell` que você está usando. Para o `bash`, este arquivo é geralmente `~/.bashrc`. Para o `zsh`, é `~/.zshrc`.\n",
    "\n",
    "Vou mostrar como fazer isso para o `bash`, mas o processo é similar para outros shells.\n",
    "\n",
    "1. Abra o terminal. Você pode fazer isso pressionando: `Ctrl + Alt + T`\n"
   ]
  },
  {
   "cell_type": "markdown",
   "metadata": {},
   "source": [
    "2. Certifique-se de que seu sistema esteja limpo e atualizado.\n",
    "\n",
    "    2.1 Remover pacotes `.deb` antigos ou duplicados do cache local. É útil para liberar espaço, pois remove apenas os pacotes que não podem mais ser baixados (ou seja, versões antigas de pacotes que foram atualizados). Digite o seguinte comando: `sudo apt autoclean`\n",
    "\n",
    "    2.2 Remover pacotes que foram automaticamente instalados para satisfazer as dependências de outros pacotes e que não são mais necessários. Digite o seguinte comando: `sudo apt autoremove -y`\n",
    "\n",
    "    2.3 Buscar as atualizações disponíveis para os pacotes que estão instalados em seu sistema. Digite o seguinte comando e pressione `Enter`: `sudo apt update -y`\n",
    "\n",
    "    2.4 Para ver a lista de pacotes a serem atualizados, digite o seguinte comando e pressione `Enter`:  `sudo apt list --upgradable`\n",
    "\n",
    "    2.5 Realmente atualizar os pacotes instalados para as suas versões mais recentes, com base na última vez que você executou `sudo apt update -y`. Digite o seguinte comando e pressione `Enter`: `sudo apt full-upgrade -y`\n",
    "\n",
    "    2.6 Remover pacotes que foram automaticamente instalados para satisfazer as dependências de outros pacotes e que não são mais necessários. Digite o seguinte comando: `sudo apt autoremove -y`\n",
    "\n",
    "    2.7 Remover pacotes `.deb` antigos ou duplicados do cache local. É útil para liberar espaço, pois remove apenas os pacotes que não podem mais ser baixados (ou seja, versões antigas de pacotes que foram atualizados). Digite o seguinte comando: `sudo apt autoclean`"
   ]
  },
  {
   "cell_type": "markdown",
   "metadata": {},
   "source": [
    "3. Abra o arquivo `~/.bashrc` em um editor de texto. Você pode fazer isso diretamente do terminal: `sudo nano ~/.bashrc`\n",
    "\n",
    "4. Encontre as linhas que define os `PS1`, que é o `prompt` do `shell`. As linhas podes se parecer com: `PS1='${debian_chroot:+($debian_chroot)}\\u@\\h:\\w\\$ '`\n",
    "\n",
    "    Veja o exemplo do código inteiro abaixo, perceber que, neste caso, existem 3 (três) linhas a serem alteradas como segue no próximo Item:\n",
    "\n",
    "    ```\n",
    "    if [ \"$color_prompt\" = yes ]; then\n",
    "        PS1='${debian_chroot:+($debian_chroot)}\\[\\033[01;32m\\]\\u@\\h\\[\\033[00m\\]:\\[\\033[01;34m\\]\\W>\n",
    "    else\n",
    "        PS1='${debian_chroot:+($debian_chroot)}\\u@\\h:\\W\\$ '\n",
    "    fi\n",
    "    unset color_prompt force_color_prompt\n",
    "\n",
    "    # If this is an xterm set the title to user@host:dir\n",
    "    case \"$TERM\" in\n",
    "    xterm*|rxvt*)\n",
    "        PS1=\"\\[\\e]0;${debian_chroot:+($debian_chroot)}\\u@\\h: \\W\\a\\]$PS1\"\n",
    "        ;;\n",
    "    *)\n",
    "        ;;\n",
    "    esac\n",
    "    ```\n",
    "\n",
    "5. Modifique esta linha para mostrar apenas o nome da última pasta. Uma forma de fazer isso é: `PS1='${debian_chroot:+($debian_chroot)}\\u@\\h:\\W\\$ '`\n",
    "\n",
    "Aqui, `\\W` faz com que apenas o nome da última pasta seja exibido.\n",
    "\n",
    "6. Depois de fazer a alteração, salve o arquivo e saia do editor:\n",
    "\n",
    "6.1 **Salvar o arquivo:** Pressione para salvar as mudanças: `Ctrl + O`. \n",
    "\n",
    "Isso abrirá uma linha na parte inferior do editor perguntando o nome do arquivo para salvar. \n",
    "\n",
    "6.2 Se você deseja manter o mesmo nome, simplesmente pressione `Enter`.\n",
    "\n",
    "6.3 **Sair do nano:** Para sair do editor nano após salvar o arquivo, pressione: `Ctrl + X`\n",
    "\n",
    "7. Aplique as mudanças com o comando: `source ~/.bashrc`\n",
    "\n",
    "Agora, seu prompt do terminal deve mostrar apenas o nome da última pasta.\n",
    "\n",
    "### 1.1 Explicação dos códigos\n",
    "\n",
    "- **`nano ~/.bashrc`:** Abre o arquivo de configuração `.bashrc` usando o editor de texto nano.\n",
    "\n",
    "- **`PS1='${debian_chroot:+($debian_chroot)}\\u@\\h:\\w\\$ '`:** Esta é uma linha típica que você encontrará no arquivo .bashrc. Ela configura a aparência do prompt do terminal.\n",
    "\n",
    "    - **`\\u`:** Nome do usuário\n",
    "\n",
    "    - **`\\h:`** Nome do host\n",
    "\n",
    "    - **`\\w:`** Caminho completo do diretório atual\n",
    "\n",
    "    - **`\\$:`** Símbolo do prompt (geralmente $ para usuários normais e # para o root)\n",
    "\n",
    "- **`PS1='${debian_chroot:+($debian_chroot)}\\u@\\h:\\W\\$ '`:** Modificamos \\w para \\W para mostrar apenas o nome do último diretório.\n",
    "\n",
    "    - **`source ~/.bashrc`:** Este comando aplica as alterações feitas no arquivo .bashrc sem a necessidade de reiniciar o terminal.\n",
    "\n",
    "Isso deve resolver o seu problema!\n"
   ]
  },
  {
   "cell_type": "markdown",
   "metadata": {},
   "source": [
    "## 2. Código completo para configurar/instalar\n",
    "\n",
    "Para instalar o `Telegram Desktop` no `Linux Ubuntu` sem precisar digitar linha por linha, você pode seguir estas etapas:\n",
    "\n",
    "1. Abra o terminal. Você pode fazer isso pressionando: `Ctrl + Alt + T`\n",
    "\n",
    "2. Digite o seguinte comando e pressione `Enter`:\n",
    "\n",
    "    ```\n",
    "    **NÃO** há.\n",
    "    ```"
   ]
  },
  {
   "cell_type": "markdown",
   "metadata": {
    "vscode": {
     "languageId": "plaintext"
    }
   },
   "source": [
    "## Referências\n",
    "\n",
    "[1] OPENAI. ***Exibir nome da pasta.:*** https://chat.openai.com/c/6f1089c0-b7c9-4e65-a481-be2cb145bb46 (texto adaptado). Acessado em: 24/10/2023 16:46.\n",
    "\n",
    "[2] OPENAI. ***Vs code: editor popular:*** https://chat.openai.com/c/b640a25d-f8e3-4922-8a3b-ed74a2657e42 (texto adaptado). ChatGPT. Acessado em: 06/02/2024 09:28.\n"
   ]
  }
 ],
 "metadata": {
  "kernelspec": {
   "display_name": "Python 3",
   "language": "python",
   "name": "python3"
  },
  "language_info": {
   "codemirror_mode": {
    "name": "ipython",
    "version": 3
   },
   "file_extension": ".py",
   "mimetype": "text/x-python",
   "name": "python",
   "nbconvert_exporter": "python",
   "pygments_lexer": "ipython3",
   "version": "3.8.10"
  },
  "orig_nbformat": 4
 },
 "nbformat": 4,
 "nbformat_minor": 2
}
